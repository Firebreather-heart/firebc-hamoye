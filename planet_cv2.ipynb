{
  "metadata": {
    "kernelspec": {
      "language": "python",
      "display_name": "Python 3",
      "name": "python3"
    },
    "language_info": {
      "name": "python",
      "version": "3.7.12",
      "mimetype": "text/x-python",
      "codemirror_mode": {
        "name": "ipython",
        "version": 3
      },
      "pygments_lexer": "ipython3",
      "nbconvert_exporter": "python",
      "file_extension": ".py"
    },
    "colab": {
      "provenance": []
    }
  },
  "nbformat_minor": 0,
  "nbformat": 4,
  "cells": [
    {
      "cell_type": "markdown",
      "source": [
        "<h2 style=\"color:yellow;background:blue;padding:5px\"> Importing the neccessary libraries and modules </h2> "
      ],
      "metadata": {
        "id": "lAwv6li3FXyz"
      }
    },
    {
      "cell_type": "code",
      "source": [
        "import numpy as np # linear algebra\n",
        "import pandas as pd\n",
        "import cv2, gc\n",
        "from tqdm import tqdm\n",
        "from sklearn.preprocessing import MultiLabelBinarizer\n",
        "from sklearn.metrics import fbeta_score\n",
        "from sklearn.model_selection import KFold\n",
        "from sklearn.utils import shuffle\n",
        "from keras.models import Sequential\n",
        "from keras.layers import Dense, BatchNormalization, Flatten\n",
        "from keras.applications.vgg19 import VGG19\n",
        "from keras.callbacks import EarlyStopping, ReduceLROnPlateau, ModelCheckpoint\n",
        "from tensorflow import keras\n",
        "from tensorflow.keras.optimizers import Adam\n",
        "from tensorflow.keras.preprocessing.image import ImageDataGenerator\n",
        "from tensorflow.keras.utils import to_categorical"
      ],
      "metadata": {
        "_uuid": "b213320a-08d8-4235-8dfd-1d03df2dede1",
        "_cell_guid": "4190f27a-169b-48ce-8382-f2b966dc2d05",
        "execution": {
          "iopub.status.busy": "2022-09-18T19:47:32.967593Z",
          "iopub.execute_input": "2022-09-18T19:47:32.968003Z",
          "iopub.status.idle": "2022-09-18T19:47:38.637503Z",
          "shell.execute_reply.started": "2022-09-18T19:47:32.967922Z",
          "shell.execute_reply": "2022-09-18T19:47:38.636484Z"
        },
        "trusted": true,
        "id": "hL43wuKZFXzB"
      },
      "execution_count": null,
      "outputs": []
    },
    {
      "cell_type": "markdown",
      "source": [
        "<h2 style=\"color:yellow;background:blue;padding:5px\"> Setting Defaults And Preprocessing</h2>"
      ],
      "metadata": {
        "id": "f1tWiIKHFXzK"
      }
    },
    {
      "cell_type": "code",
      "source": [
        "input_size = 128\n",
        "epoch = 20\n",
        "batch_size = 500\n",
        "input_shape = (input_size, input_size, 3)\n",
        "path = '/kaggle/input/planets-dataset/planet/planet/'"
      ],
      "metadata": {
        "_uuid": "44de38f8-5106-4c40-a28f-6a0f7eed8fe3",
        "_cell_guid": "235cc4b5-c0ee-4b75-b591-fc7f9843f979",
        "execution": {
          "iopub.status.busy": "2022-09-18T19:47:38.639281Z",
          "iopub.execute_input": "2022-09-18T19:47:38.641645Z",
          "iopub.status.idle": "2022-09-18T19:47:38.650754Z",
          "shell.execute_reply.started": "2022-09-18T19:47:38.641615Z",
          "shell.execute_reply": "2022-09-18T19:47:38.648855Z"
        },
        "trusted": true,
        "id": "GsGpLkPUFXzN"
      },
      "execution_count": null,
      "outputs": []
    },
    {
      "cell_type": "code",
      "source": [
        "gc.collect()\n",
        "train_classes = pd.read_csv(f'{path}train_classes.csv')\n",
        "train_classes = shuffle(train_classes, random_state=0)\n",
        "sample_submission = pd.read_csv(f'{path}sample_submission.csv')\n",
        "trad_sample_df = sample_submission[sample_submission.image_name.str.contains('file_')].copy()\n",
        "sample_submission = sample_submission[sample_submission.image_name.str.contains('test_')]"
      ],
      "metadata": {
        "_uuid": "18b86af5-e296-45f7-adc3-5689303f21f2",
        "_cell_guid": "74f45f52-f940-49d0-9891-22c01f67f278",
        "execution": {
          "iopub.status.busy": "2022-09-18T19:47:38.653879Z",
          "iopub.execute_input": "2022-09-18T19:47:38.654819Z",
          "iopub.status.idle": "2022-09-18T19:47:39.123204Z",
          "shell.execute_reply.started": "2022-09-18T19:47:38.654776Z",
          "shell.execute_reply": "2022-09-18T19:47:39.122213Z"
        },
        "trusted": true,
        "id": "_SUjh8NeFXzP"
      },
      "execution_count": null,
      "outputs": []
    },
    {
      "cell_type": "code",
      "source": [
        "s = train_classes.tags.str.split(' ').explode()\n",
        "lb = MultiLabelBinarizer()\n",
        "encoded = lb.fit_transform(s.values[:, None])\n",
        "one_hot_df = pd.DataFrame(encoded.tolist(), columns=np.ravel(lb.classes_), dtype='int') \\\n",
        "                .groupby(s.index) \\\n",
        "                .sum()\n",
        "one_hot_df['image_name'] = train_classes[\"image_name\"].apply(lambda fn: fn+\".jpg\")\n",
        "cols = ['image_name'] + list(np.ravel(lb.classes_))\n",
        "train_classes = one_hot_df[cols].copy()\n",
        "del one_hot_df, s, encoded, lb\n",
        "trad_sample_df['image_name'] = trad_sample_df[\"image_name\"].apply(lambda fn: fn+\".jpg\")\n",
        "sample_submission['image_name'] = sample_submission[\"image_name\"].apply(lambda fn: fn+\".jpg\")"
      ],
      "metadata": {
        "execution": {
          "iopub.status.busy": "2022-09-18T19:47:39.126742Z",
          "iopub.execute_input": "2022-09-18T19:47:39.127519Z",
          "iopub.status.idle": "2022-09-18T19:47:40.182675Z",
          "shell.execute_reply.started": "2022-09-18T19:47:39.127480Z",
          "shell.execute_reply": "2022-09-18T19:47:40.181684Z"
        },
        "trusted": true,
        "id": "Q2nSmP2FFXzT"
      },
      "execution_count": null,
      "outputs": []
    },
    {
      "cell_type": "code",
      "source": [
        "datagen = ImageDataGenerator(horizontal_flip=True, vertical_flip=True,\n",
        "                             zoom_range=0.5, rotation_range=90,\n",
        "                             rescale=1./255.)"
      ],
      "metadata": {
        "_uuid": "d73c8b36-e9c8-4ea3-b25f-73937261f46f",
        "_cell_guid": "54ea9955-d8b3-440b-a21d-c13b8487751f",
        "execution": {
          "iopub.status.busy": "2022-09-18T19:47:40.184309Z",
          "iopub.execute_input": "2022-09-18T19:47:40.184675Z",
          "iopub.status.idle": "2022-09-18T19:47:40.190092Z",
          "shell.execute_reply.started": "2022-09-18T19:47:40.184640Z",
          "shell.execute_reply": "2022-09-18T19:47:40.189095Z"
        },
        "trusted": true,
        "id": "er-UtCyOFXzX"
      },
      "execution_count": null,
      "outputs": []
    },
    {
      "cell_type": "markdown",
      "source": [
        "<h2 style=\"color:yellow;background:blue;padding:5px\">Defining Functions</h2>"
      ],
      "metadata": {
        "id": "Qxtv7e98FXza"
      }
    },
    {
      "cell_type": "code",
      "source": [
        "def VGG19_Amazon_Model(input_shape=input_shape):\n",
        "    gc.collect()\n",
        "    base_model = VGG19(include_top=False, weights='imagenet',\n",
        "                       input_shape=input_shape)\n",
        "    model = Sequential()\n",
        "    model.add(BatchNormalization(input_shape=input_shape))\n",
        "    model.add(base_model)\n",
        "    model.add(Flatten())\n",
        "    model.add(Dense(17, activation='sigmoid'))\n",
        "   \n",
        "    return model\n",
        "\n",
        "\n",
        "def return_model_name(k):\n",
        "    return '/kaggle/working/model_'+str(k)+'.h5'\n",
        "\n",
        "\n",
        "def train_model(df, k=5):\n",
        "    gc.collect()\n",
        "    model = VGG19_Amazon_Model()\n",
        "    kf = KFold(n_splits=k, random_state=1, shuffle=True)\n",
        "    fold = 1\n",
        "\n",
        "    for train_index, val_index in kf.split(df.image_name):\n",
        "        \n",
        "        training_data = df.iloc[train_index]\n",
        "        validation_data = df.iloc[val_index]\n",
        "        \n",
        "        train_generator=datagen.flow_from_dataframe(\n",
        "                                            dataframe=training_data, directory=f'{path}/train-jpg/',\n",
        "                                            x_col=\"image_name\", y_col=cols[1:], batch_size=batch_size,\n",
        "                                            seed=42, shuffle=True, class_mode=\"raw\",\n",
        "                                            target_size=(input_size, input_size))\n",
        "        \n",
        "        val_generator=datagen.flow_from_dataframe(\n",
        "                                            dataframe=validation_data, directory=f'{path}/train-jpg/',\n",
        "                                            x_col=\"image_name\", y_col=cols[1:], batch_size=batch_size,\n",
        "                                            seed=42, shuffle=True, class_mode=\"raw\",\n",
        "                                            target_size=(input_size, input_size))\n",
        "        \n",
        "        STEP_SIZE_TRAIN = train_generator.n//train_generator.batch_size\n",
        "        STEP_SIZE_VAL = val_generator.n//val_generator.batch_size\n",
        "        \n",
        "        opt = Adam(learning_rate=0.0001)\n",
        "        model.compile(optimizer=opt, loss='binary_crossentropy', metrics=['accuracy'])\n",
        "\n",
        "        callback = [EarlyStopping(monitor='val_accuracy', patience=4, verbose=1),\n",
        "                    ReduceLROnPlateau(monitor='val_loss', factor=0.1, patience=2,\n",
        "                                   cooldown=2, verbose=1),\n",
        "                    ModelCheckpoint(return_model_name(fold), monitor='val_accuracy', \n",
        "                                    verbose=1, save_best_only=True, mode='max')]\n",
        "        history = model.fit_generator(train_generator, \n",
        "                                      validation_data=val_generator,\n",
        "                                      callbacks=callback, verbose=1, epochs=epoch) \n",
        "        fold += 1\n",
        "        \n",
        "    return val_generator\n",
        "\n",
        "\n",
        "def predict_model(test_gen, k=5, batch_size=batch_size):\n",
        "    model = VGG19_Amazon_Model()\n",
        "    model.load_weights(filepath='/kaggle/working/model_2.h5')\n",
        "    full_test = []\n",
        "    p_test = model.predict_generator(test_gen, verbose=1)\n",
        "    full_test.append(p_test)\n",
        "    #full_test.append(p_test)\n",
        "\n",
        "    for nfold in range(1,k+1):\n",
        "        model.load_weights(filepath=return_model_name(nfold))\n",
        "        p_test = model.predict_generator(test_gen, verbose=1)\n",
        "        full_test.append(p_test)\n",
        "    result = np.array(full_test[0])\n",
        "\n",
        "    #result = np.array(full_test)\n",
        "    \n",
        "    for i in range(1, k):\n",
        "        result += np.array(full_test[i])\n",
        "        result = result / k\n",
        "    \n",
        "    result_bool = (result > 0.18)\n",
        "    \n",
        "#     for i in result:\n",
        "#         if i > 0.18:\n",
        "#             result_bool.append(True)\n",
        "#         else:\n",
        "#             result_bool.append(False)\n",
        "            \n",
        "    \n",
        "    return result_bool.astype(int)\n",
        "\n",
        "\n",
        "def generate_original_format(df):\n",
        "    preds = []\n",
        "    for i in tqdm(range(df.shape[0]), miniters=1000):\n",
        "        a = df.iloc[[i]]\n",
        "        pred_tag=[]\n",
        "        for k in cols[1:]:\n",
        "            if(a[k][i] == 1):\n",
        "                pred_tag.append(k)\n",
        "        preds.append(' '.join(pred_tag))\n",
        "\n",
        "    df['tags'] = preds\n",
        "    df['image_name'] = df['image_name'].apply(lambda x: x.split('.')[0])\n",
        "    return df[['image_name', 'tags']]"
      ],
      "metadata": {
        "_uuid": "3754ea10-ccc6-4191-bcd6-3edac58aeba3",
        "_cell_guid": "a7fe1aab-779a-4f80-a34e-cd023f9018a2",
        "execution": {
          "iopub.status.busy": "2022-09-18T20:55:23.158959Z",
          "iopub.execute_input": "2022-09-18T20:55:23.159680Z",
          "iopub.status.idle": "2022-09-18T20:55:23.177180Z",
          "shell.execute_reply.started": "2022-09-18T20:55:23.159642Z",
          "shell.execute_reply": "2022-09-18T20:55:23.176090Z"
        },
        "trusted": true,
        "id": "5KD8028sFXzd"
      },
      "execution_count": null,
      "outputs": []
    },
    {
      "cell_type": "code",
      "source": [
        "val_generator = train_model(train_classes)\n",
        "gc.collect()"
      ],
      "metadata": {
        "_uuid": "90635d17-062a-45c4-8ee6-339110ed4104",
        "_cell_guid": "7ab5c811-b305-4c56-84c9-39487052b93c",
        "execution": {
          "iopub.status.busy": "2022-09-18T20:40:56.259942Z",
          "iopub.execute_input": "2022-09-18T20:40:56.260336Z",
          "iopub.status.idle": "2022-09-18T20:41:01.651777Z",
          "shell.execute_reply.started": "2022-09-18T20:40:56.260303Z",
          "shell.execute_reply": "2022-09-18T20:41:01.650378Z"
        },
        "trusted": true,
        "id": "GWXs4i7eFXzr",
        "outputId": "e65adc28-39ae-4ea2-c570-4fa91353943b"
      },
      "execution_count": null,
      "outputs": [
        {
          "traceback": [
            "\u001b[0;31m---------------------------------------------------------------------------\u001b[0m",
            "\u001b[0;31mKeyboardInterrupt\u001b[0m                         Traceback (most recent call last)",
            "\u001b[0;32m/tmp/ipykernel_17/2719085993.py\u001b[0m in \u001b[0;36m<module>\u001b[0;34m\u001b[0m\n\u001b[0;32m----> 1\u001b[0;31m \u001b[0mval_generator\u001b[0m \u001b[0;34m=\u001b[0m \u001b[0mtrain_model\u001b[0m\u001b[0;34m(\u001b[0m\u001b[0mtrain_classes\u001b[0m\u001b[0;34m)\u001b[0m\u001b[0;34m\u001b[0m\u001b[0;34m\u001b[0m\u001b[0m\n\u001b[0m\u001b[1;32m      2\u001b[0m \u001b[0mgc\u001b[0m\u001b[0;34m.\u001b[0m\u001b[0mcollect\u001b[0m\u001b[0;34m(\u001b[0m\u001b[0;34m)\u001b[0m\u001b[0;34m\u001b[0m\u001b[0;34m\u001b[0m\u001b[0m\n",
            "\u001b[0;32m/tmp/ipykernel_17/4031197045.py\u001b[0m in \u001b[0;36mtrain_model\u001b[0;34m(df, k)\u001b[0m\n\u001b[1;32m     31\u001b[0m                                             \u001b[0mx_col\u001b[0m\u001b[0;34m=\u001b[0m\u001b[0;34m\"image_name\"\u001b[0m\u001b[0;34m,\u001b[0m \u001b[0my_col\u001b[0m\u001b[0;34m=\u001b[0m\u001b[0mcols\u001b[0m\u001b[0;34m[\u001b[0m\u001b[0;36m1\u001b[0m\u001b[0;34m:\u001b[0m\u001b[0;34m]\u001b[0m\u001b[0;34m,\u001b[0m \u001b[0mbatch_size\u001b[0m\u001b[0;34m=\u001b[0m\u001b[0mbatch_size\u001b[0m\u001b[0;34m,\u001b[0m\u001b[0;34m\u001b[0m\u001b[0;34m\u001b[0m\u001b[0m\n\u001b[1;32m     32\u001b[0m                                             \u001b[0mseed\u001b[0m\u001b[0;34m=\u001b[0m\u001b[0;36m42\u001b[0m\u001b[0;34m,\u001b[0m \u001b[0mshuffle\u001b[0m\u001b[0;34m=\u001b[0m\u001b[0;32mTrue\u001b[0m\u001b[0;34m,\u001b[0m \u001b[0mclass_mode\u001b[0m\u001b[0;34m=\u001b[0m\u001b[0;34m\"raw\"\u001b[0m\u001b[0;34m,\u001b[0m\u001b[0;34m\u001b[0m\u001b[0;34m\u001b[0m\u001b[0m\n\u001b[0;32m---> 33\u001b[0;31m                                             target_size=(input_size, input_size))\n\u001b[0m\u001b[1;32m     34\u001b[0m \u001b[0;34m\u001b[0m\u001b[0m\n\u001b[1;32m     35\u001b[0m         val_generator=datagen.flow_from_dataframe(\n",
            "\u001b[0;32m/opt/conda/lib/python3.7/site-packages/keras/preprocessing/image.py\u001b[0m in \u001b[0;36mflow_from_dataframe\u001b[0;34m(self, dataframe, directory, x_col, y_col, weight_col, target_size, color_mode, classes, class_mode, batch_size, shuffle, seed, save_to_dir, save_prefix, save_format, subset, interpolation, validate_filenames, **kwargs)\u001b[0m\n\u001b[1;32m   1135\u001b[0m         \u001b[0msubset\u001b[0m\u001b[0;34m=\u001b[0m\u001b[0msubset\u001b[0m\u001b[0;34m,\u001b[0m\u001b[0;34m\u001b[0m\u001b[0;34m\u001b[0m\u001b[0m\n\u001b[1;32m   1136\u001b[0m         \u001b[0minterpolation\u001b[0m\u001b[0;34m=\u001b[0m\u001b[0minterpolation\u001b[0m\u001b[0;34m,\u001b[0m\u001b[0;34m\u001b[0m\u001b[0;34m\u001b[0m\u001b[0m\n\u001b[0;32m-> 1137\u001b[0;31m         validate_filenames=validate_filenames)\n\u001b[0m\u001b[1;32m   1138\u001b[0m \u001b[0;34m\u001b[0m\u001b[0m\n\u001b[1;32m   1139\u001b[0m \u001b[0;34m\u001b[0m\u001b[0m\n",
            "\u001b[0;32m/opt/conda/lib/python3.7/site-packages/keras/preprocessing/image.py\u001b[0m in \u001b[0;36m__init__\u001b[0;34m(self, dataframe, directory, image_data_generator, x_col, y_col, weight_col, target_size, color_mode, classes, class_mode, batch_size, shuffle, seed, data_format, save_to_dir, save_prefix, save_format, subset, interpolation, dtype, validate_filenames)\u001b[0m\n\u001b[1;32m    590\u001b[0m         \u001b[0minterpolation\u001b[0m\u001b[0;34m=\u001b[0m\u001b[0minterpolation\u001b[0m\u001b[0;34m,\u001b[0m\u001b[0;34m\u001b[0m\u001b[0;34m\u001b[0m\u001b[0m\n\u001b[1;32m    591\u001b[0m         \u001b[0mdtype\u001b[0m\u001b[0;34m=\u001b[0m\u001b[0mdtype\u001b[0m\u001b[0;34m,\u001b[0m\u001b[0;34m\u001b[0m\u001b[0;34m\u001b[0m\u001b[0m\n\u001b[0;32m--> 592\u001b[0;31m         \u001b[0mvalidate_filenames\u001b[0m\u001b[0;34m=\u001b[0m\u001b[0mvalidate_filenames\u001b[0m\u001b[0;34m\u001b[0m\u001b[0;34m\u001b[0m\u001b[0m\n\u001b[0m\u001b[1;32m    593\u001b[0m     )\n\u001b[1;32m    594\u001b[0m \u001b[0;34m\u001b[0m\u001b[0m\n",
            "\u001b[0;32m/opt/conda/lib/python3.7/site-packages/keras_preprocessing/image/dataframe_iterator.py\u001b[0m in \u001b[0;36m__init__\u001b[0;34m(self, dataframe, directory, image_data_generator, x_col, y_col, weight_col, target_size, color_mode, classes, class_mode, batch_size, shuffle, seed, data_format, save_to_dir, save_prefix, save_format, subset, interpolation, dtype, validate_filenames)\u001b[0m\n\u001b[1;32m    138\u001b[0m         \u001b[0mself\u001b[0m\u001b[0;34m.\u001b[0m\u001b[0m_check_params\u001b[0m\u001b[0;34m(\u001b[0m\u001b[0mdf\u001b[0m\u001b[0;34m,\u001b[0m \u001b[0mx_col\u001b[0m\u001b[0;34m,\u001b[0m \u001b[0my_col\u001b[0m\u001b[0;34m,\u001b[0m \u001b[0mweight_col\u001b[0m\u001b[0;34m,\u001b[0m \u001b[0mclasses\u001b[0m\u001b[0;34m)\u001b[0m\u001b[0;34m\u001b[0m\u001b[0;34m\u001b[0m\u001b[0m\n\u001b[1;32m    139\u001b[0m         \u001b[0;32mif\u001b[0m \u001b[0mvalidate_filenames\u001b[0m\u001b[0;34m:\u001b[0m  \u001b[0;31m# check which image files are valid and keep them\u001b[0m\u001b[0;34m\u001b[0m\u001b[0;34m\u001b[0m\u001b[0m\n\u001b[0;32m--> 140\u001b[0;31m             \u001b[0mdf\u001b[0m \u001b[0;34m=\u001b[0m \u001b[0mself\u001b[0m\u001b[0;34m.\u001b[0m\u001b[0m_filter_valid_filepaths\u001b[0m\u001b[0;34m(\u001b[0m\u001b[0mdf\u001b[0m\u001b[0;34m,\u001b[0m \u001b[0mx_col\u001b[0m\u001b[0;34m)\u001b[0m\u001b[0;34m\u001b[0m\u001b[0;34m\u001b[0m\u001b[0m\n\u001b[0m\u001b[1;32m    141\u001b[0m         \u001b[0;32mif\u001b[0m \u001b[0mclass_mode\u001b[0m \u001b[0;32mnot\u001b[0m \u001b[0;32min\u001b[0m \u001b[0;34m[\u001b[0m\u001b[0;34m\"input\"\u001b[0m\u001b[0;34m,\u001b[0m \u001b[0;34m\"multi_output\"\u001b[0m\u001b[0;34m,\u001b[0m \u001b[0;34m\"raw\"\u001b[0m\u001b[0;34m,\u001b[0m \u001b[0;32mNone\u001b[0m\u001b[0;34m]\u001b[0m\u001b[0;34m:\u001b[0m\u001b[0;34m\u001b[0m\u001b[0;34m\u001b[0m\u001b[0m\n\u001b[1;32m    142\u001b[0m             \u001b[0mdf\u001b[0m\u001b[0;34m,\u001b[0m \u001b[0mclasses\u001b[0m \u001b[0;34m=\u001b[0m \u001b[0mself\u001b[0m\u001b[0;34m.\u001b[0m\u001b[0m_filter_classes\u001b[0m\u001b[0;34m(\u001b[0m\u001b[0mdf\u001b[0m\u001b[0;34m,\u001b[0m \u001b[0my_col\u001b[0m\u001b[0;34m,\u001b[0m \u001b[0mclasses\u001b[0m\u001b[0;34m)\u001b[0m\u001b[0;34m\u001b[0m\u001b[0;34m\u001b[0m\u001b[0m\n",
            "\u001b[0;32m/opt/conda/lib/python3.7/site-packages/keras_preprocessing/image/dataframe_iterator.py\u001b[0m in \u001b[0;36m_filter_valid_filepaths\u001b[0;34m(self, df, x_col)\u001b[0m\n\u001b[1;32m    274\u001b[0m             \u001b[0;32mlambda\u001b[0m \u001b[0mfname\u001b[0m\u001b[0;34m:\u001b[0m \u001b[0mos\u001b[0m\u001b[0;34m.\u001b[0m\u001b[0mpath\u001b[0m\u001b[0;34m.\u001b[0m\u001b[0mjoin\u001b[0m\u001b[0;34m(\u001b[0m\u001b[0mself\u001b[0m\u001b[0;34m.\u001b[0m\u001b[0mdirectory\u001b[0m\u001b[0;34m,\u001b[0m \u001b[0mfname\u001b[0m\u001b[0;34m)\u001b[0m\u001b[0;34m\u001b[0m\u001b[0;34m\u001b[0m\u001b[0m\n\u001b[1;32m    275\u001b[0m         )\n\u001b[0;32m--> 276\u001b[0;31m         \u001b[0mmask\u001b[0m \u001b[0;34m=\u001b[0m \u001b[0mfilepaths\u001b[0m\u001b[0;34m.\u001b[0m\u001b[0mapply\u001b[0m\u001b[0;34m(\u001b[0m\u001b[0mvalidate_filename\u001b[0m\u001b[0;34m,\u001b[0m \u001b[0margs\u001b[0m\u001b[0;34m=\u001b[0m\u001b[0;34m(\u001b[0m\u001b[0mself\u001b[0m\u001b[0;34m.\u001b[0m\u001b[0mwhite_list_formats\u001b[0m\u001b[0;34m,\u001b[0m\u001b[0;34m)\u001b[0m\u001b[0;34m)\u001b[0m\u001b[0;34m\u001b[0m\u001b[0;34m\u001b[0m\u001b[0m\n\u001b[0m\u001b[1;32m    277\u001b[0m         \u001b[0mn_invalid\u001b[0m \u001b[0;34m=\u001b[0m \u001b[0;34m(\u001b[0m\u001b[0;34m~\u001b[0m\u001b[0mmask\u001b[0m\u001b[0;34m)\u001b[0m\u001b[0;34m.\u001b[0m\u001b[0msum\u001b[0m\u001b[0;34m(\u001b[0m\u001b[0;34m)\u001b[0m\u001b[0;34m\u001b[0m\u001b[0;34m\u001b[0m\u001b[0m\n\u001b[1;32m    278\u001b[0m         \u001b[0;32mif\u001b[0m \u001b[0mn_invalid\u001b[0m\u001b[0;34m:\u001b[0m\u001b[0;34m\u001b[0m\u001b[0;34m\u001b[0m\u001b[0m\n",
            "\u001b[0;32m/opt/conda/lib/python3.7/site-packages/pandas/core/series.py\u001b[0m in \u001b[0;36mapply\u001b[0;34m(self, func, convert_dtype, args, **kwargs)\u001b[0m\n\u001b[1;32m   4355\u001b[0m         \u001b[0mdtype\u001b[0m\u001b[0;34m:\u001b[0m \u001b[0mfloat64\u001b[0m\u001b[0;34m\u001b[0m\u001b[0;34m\u001b[0m\u001b[0m\n\u001b[1;32m   4356\u001b[0m         \"\"\"\n\u001b[0;32m-> 4357\u001b[0;31m         \u001b[0;32mreturn\u001b[0m \u001b[0mSeriesApply\u001b[0m\u001b[0;34m(\u001b[0m\u001b[0mself\u001b[0m\u001b[0;34m,\u001b[0m \u001b[0mfunc\u001b[0m\u001b[0;34m,\u001b[0m \u001b[0mconvert_dtype\u001b[0m\u001b[0;34m,\u001b[0m \u001b[0margs\u001b[0m\u001b[0;34m,\u001b[0m \u001b[0mkwargs\u001b[0m\u001b[0;34m)\u001b[0m\u001b[0;34m.\u001b[0m\u001b[0mapply\u001b[0m\u001b[0;34m(\u001b[0m\u001b[0;34m)\u001b[0m\u001b[0;34m\u001b[0m\u001b[0;34m\u001b[0m\u001b[0m\n\u001b[0m\u001b[1;32m   4358\u001b[0m \u001b[0;34m\u001b[0m\u001b[0m\n\u001b[1;32m   4359\u001b[0m     def _reduce(\n",
            "\u001b[0;32m/opt/conda/lib/python3.7/site-packages/pandas/core/apply.py\u001b[0m in \u001b[0;36mapply\u001b[0;34m(self)\u001b[0m\n\u001b[1;32m   1041\u001b[0m             \u001b[0;32mreturn\u001b[0m \u001b[0mself\u001b[0m\u001b[0;34m.\u001b[0m\u001b[0mapply_str\u001b[0m\u001b[0;34m(\u001b[0m\u001b[0;34m)\u001b[0m\u001b[0;34m\u001b[0m\u001b[0;34m\u001b[0m\u001b[0m\n\u001b[1;32m   1042\u001b[0m \u001b[0;34m\u001b[0m\u001b[0m\n\u001b[0;32m-> 1043\u001b[0;31m         \u001b[0;32mreturn\u001b[0m \u001b[0mself\u001b[0m\u001b[0;34m.\u001b[0m\u001b[0mapply_standard\u001b[0m\u001b[0;34m(\u001b[0m\u001b[0;34m)\u001b[0m\u001b[0;34m\u001b[0m\u001b[0;34m\u001b[0m\u001b[0m\n\u001b[0m\u001b[1;32m   1044\u001b[0m \u001b[0;34m\u001b[0m\u001b[0m\n\u001b[1;32m   1045\u001b[0m     \u001b[0;32mdef\u001b[0m \u001b[0magg\u001b[0m\u001b[0;34m(\u001b[0m\u001b[0mself\u001b[0m\u001b[0;34m)\u001b[0m\u001b[0;34m:\u001b[0m\u001b[0;34m\u001b[0m\u001b[0;34m\u001b[0m\u001b[0m\n",
            "\u001b[0;32m/opt/conda/lib/python3.7/site-packages/pandas/core/apply.py\u001b[0m in \u001b[0;36mapply_standard\u001b[0;34m(self)\u001b[0m\n\u001b[1;32m   1099\u001b[0m                     \u001b[0mvalues\u001b[0m\u001b[0;34m,\u001b[0m\u001b[0;34m\u001b[0m\u001b[0;34m\u001b[0m\u001b[0m\n\u001b[1;32m   1100\u001b[0m                     \u001b[0mf\u001b[0m\u001b[0;34m,\u001b[0m  \u001b[0;31m# type: ignore[arg-type]\u001b[0m\u001b[0;34m\u001b[0m\u001b[0;34m\u001b[0m\u001b[0m\n\u001b[0;32m-> 1101\u001b[0;31m                     \u001b[0mconvert\u001b[0m\u001b[0;34m=\u001b[0m\u001b[0mself\u001b[0m\u001b[0;34m.\u001b[0m\u001b[0mconvert_dtype\u001b[0m\u001b[0;34m,\u001b[0m\u001b[0;34m\u001b[0m\u001b[0;34m\u001b[0m\u001b[0m\n\u001b[0m\u001b[1;32m   1102\u001b[0m                 )\n\u001b[1;32m   1103\u001b[0m \u001b[0;34m\u001b[0m\u001b[0m\n",
            "\u001b[0;32m/opt/conda/lib/python3.7/site-packages/pandas/_libs/lib.pyx\u001b[0m in \u001b[0;36mpandas._libs.lib.map_infer\u001b[0;34m()\u001b[0m\n",
            "\u001b[0;32m/opt/conda/lib/python3.7/site-packages/pandas/core/apply.py\u001b[0m in \u001b[0;36mf\u001b[0;34m(x)\u001b[0m\n\u001b[1;32m    129\u001b[0m \u001b[0;34m\u001b[0m\u001b[0m\n\u001b[1;32m    130\u001b[0m             \u001b[0;32mdef\u001b[0m \u001b[0mf\u001b[0m\u001b[0;34m(\u001b[0m\u001b[0mx\u001b[0m\u001b[0;34m)\u001b[0m\u001b[0;34m:\u001b[0m\u001b[0;34m\u001b[0m\u001b[0;34m\u001b[0m\u001b[0m\n\u001b[0;32m--> 131\u001b[0;31m                 \u001b[0;32mreturn\u001b[0m \u001b[0mfunc\u001b[0m\u001b[0;34m(\u001b[0m\u001b[0mx\u001b[0m\u001b[0;34m,\u001b[0m \u001b[0;34m*\u001b[0m\u001b[0margs\u001b[0m\u001b[0;34m,\u001b[0m \u001b[0;34m**\u001b[0m\u001b[0mkwargs\u001b[0m\u001b[0;34m)\u001b[0m\u001b[0;34m\u001b[0m\u001b[0;34m\u001b[0m\u001b[0m\n\u001b[0m\u001b[1;32m    132\u001b[0m \u001b[0;34m\u001b[0m\u001b[0m\n\u001b[1;32m    133\u001b[0m         \u001b[0;32melse\u001b[0m\u001b[0;34m:\u001b[0m\u001b[0;34m\u001b[0m\u001b[0;34m\u001b[0m\u001b[0m\n",
            "\u001b[0;32m/opt/conda/lib/python3.7/site-packages/keras_preprocessing/image/utils.py\u001b[0m in \u001b[0;36mvalidate_filename\u001b[0;34m(filename, white_list_formats)\u001b[0m\n\u001b[1;32m     46\u001b[0m     \"\"\"\n\u001b[1;32m     47\u001b[0m     return (filename.lower().endswith(white_list_formats) and\n\u001b[0;32m---> 48\u001b[0;31m             os.path.isfile(filename))\n\u001b[0m\u001b[1;32m     49\u001b[0m \u001b[0;34m\u001b[0m\u001b[0m\n\u001b[1;32m     50\u001b[0m \u001b[0;34m\u001b[0m\u001b[0m\n",
            "\u001b[0;32m/opt/conda/lib/python3.7/genericpath.py\u001b[0m in \u001b[0;36misfile\u001b[0;34m(path)\u001b[0m\n\u001b[1;32m     28\u001b[0m     \u001b[0;34m\"\"\"Test whether a path is a regular file\"\"\"\u001b[0m\u001b[0;34m\u001b[0m\u001b[0;34m\u001b[0m\u001b[0m\n\u001b[1;32m     29\u001b[0m     \u001b[0;32mtry\u001b[0m\u001b[0;34m:\u001b[0m\u001b[0;34m\u001b[0m\u001b[0;34m\u001b[0m\u001b[0m\n\u001b[0;32m---> 30\u001b[0;31m         \u001b[0mst\u001b[0m \u001b[0;34m=\u001b[0m \u001b[0mos\u001b[0m\u001b[0;34m.\u001b[0m\u001b[0mstat\u001b[0m\u001b[0;34m(\u001b[0m\u001b[0mpath\u001b[0m\u001b[0;34m)\u001b[0m\u001b[0;34m\u001b[0m\u001b[0;34m\u001b[0m\u001b[0m\n\u001b[0m\u001b[1;32m     31\u001b[0m     \u001b[0;32mexcept\u001b[0m \u001b[0mOSError\u001b[0m\u001b[0;34m:\u001b[0m\u001b[0;34m\u001b[0m\u001b[0;34m\u001b[0m\u001b[0m\n\u001b[1;32m     32\u001b[0m         \u001b[0;32mreturn\u001b[0m \u001b[0;32mFalse\u001b[0m\u001b[0;34m\u001b[0m\u001b[0;34m\u001b[0m\u001b[0m\n",
            "\u001b[0;31mKeyboardInterrupt\u001b[0m: "
          ],
          "ename": "KeyboardInterrupt",
          "evalue": "",
          "output_type": "error"
        }
      ]
    },
    {
      "cell_type": "markdown",
      "source": [
        "<h2 style=\"color:yellow;background:blue;padding:5px\">preliminary Predictions</h2>"
      ],
      "metadata": {
        "id": "uHii1dXkFXzx"
      }
    },
    {
      "cell_type": "code",
      "source": [
        "pred_val = predict_model(val_generator, 5)"
      ],
      "metadata": {
        "execution": {
          "iopub.status.busy": "2022-09-18T20:55:27.625227Z",
          "iopub.execute_input": "2022-09-18T20:55:27.625594Z",
          "iopub.status.idle": "2022-09-18T20:57:28.935260Z",
          "shell.execute_reply.started": "2022-09-18T20:55:27.625564Z",
          "shell.execute_reply": "2022-09-18T20:57:28.934248Z"
        },
        "trusted": true,
        "id": "txmyVCbeFXzz",
        "outputId": "f0d204e8-2084-4d4b-a662-3101a74fa48c"
      },
      "execution_count": null,
      "outputs": [
        {
          "name": "stdout",
          "text": "41/41 [==============================] - 117s 3s/step\n",
          "output_type": "stream"
        }
      ]
    },
    {
      "cell_type": "code",
      "source": [
        "preds = np.argmax(pred_val, axis=1)\n",
        "vals = np.argmax(val_generator.labels, axis=1)\n",
        "\n",
        "print('F2 = {}'.format(fbeta_score(vals, preds, beta=2, average='micro')))"
      ],
      "metadata": {
        "execution": {
          "iopub.status.busy": "2022-09-18T19:47:57.956108Z",
          "iopub.status.idle": "2022-09-18T19:47:57.956957Z",
          "shell.execute_reply.started": "2022-09-18T19:47:57.956660Z",
          "shell.execute_reply": "2022-09-18T19:47:57.956688Z"
        },
        "trusted": true,
        "id": "ZpNzmOAQFXz2"
      },
      "execution_count": null,
      "outputs": []
    },
    {
      "cell_type": "markdown",
      "source": [
        "<h2 style=\"color:yellow;background:blue;padding:5px\"> Testing the model and making predictions</h2>"
      ],
      "metadata": {
        "id": "9wQohhxBFXz4"
      }
    },
    {
      "cell_type": "code",
      "source": [
        "test_datagen=ImageDataGenerator(rescale=1./255.)\n",
        "\n",
        "test1_generator=test_datagen.flow_from_dataframe(\n",
        "                                            dataframe=sample_submission, directory=f'{path}/test-jpg/',\n",
        "                                            x_col=\"image_name\", y_col=None, batch_size=8,\n",
        "                                            seed=42, shuffle=False, class_mode=None, \n",
        "                                            target_size=(input_size, input_size))\n",
        "\n",
        "result1 = predict_model(test1_generator, 5)\n",
        "result1 = pd.DataFrame(result1, columns=cols[1:])\n",
        "result1[\"image_name\"]=test1_generator.filenames\n",
        "result1 = generate_original_format(result1.copy())"
      ],
      "metadata": {
        "_uuid": "bf3355a2-177a-4f23-949e-adaf91ae147c",
        "_cell_guid": "b93f9987-7293-4084-a7d8-c6512064dbfe",
        "execution": {
          "iopub.status.busy": "2022-09-18T19:47:57.958463Z",
          "iopub.status.idle": "2022-09-18T19:47:57.959318Z",
          "shell.execute_reply.started": "2022-09-18T19:47:57.958989Z",
          "shell.execute_reply": "2022-09-18T19:47:57.959017Z"
        },
        "trusted": true,
        "id": "9OnLRy_TFXz6"
      },
      "execution_count": null,
      "outputs": []
    },
    {
      "cell_type": "code",
      "source": [
        "test2_generator=test_datagen.flow_from_dataframe(\n",
        "                                            dataframe=trad_sample_df, \n",
        "                                            directory='../input/planets-dataset/test-jpg-additional/test-jpg-additional/',\n",
        "                                            x_col=\"image_name\", y_col=None, batch_size=8,\n",
        "                                            seed=42, shuffle=False, class_mode=None, \n",
        "                                            target_size=(input_size, input_size))\n",
        "\n",
        "result2 = predict_model(test2_generator, 5)\n",
        "result2 = pd.DataFrame(result2, columns=cols[1:])\n",
        "result2[\"image_name\"]=test2_generator.filenames\n",
        "result2 = generate_original_format(result2.copy())"
      ],
      "metadata": {
        "execution": {
          "iopub.status.busy": "2022-09-18T19:47:57.961396Z",
          "iopub.status.idle": "2022-09-18T19:47:57.962234Z",
          "shell.execute_reply.started": "2022-09-18T19:47:57.961920Z",
          "shell.execute_reply": "2022-09-18T19:47:57.961948Z"
        },
        "trusted": true,
        "id": "QKnYBVJKFXz9"
      },
      "execution_count": null,
      "outputs": []
    },
    {
      "cell_type": "code",
      "source": [
        "results = result1.append(result2, ignore_index=True)\n",
        "results.to_csv(\"my_submission.csv\",index=False)"
      ],
      "metadata": {
        "execution": {
          "iopub.status.busy": "2022-09-18T19:47:57.963732Z",
          "iopub.status.idle": "2022-09-18T19:47:57.964562Z",
          "shell.execute_reply.started": "2022-09-18T19:47:57.964262Z",
          "shell.execute_reply": "2022-09-18T19:47:57.964290Z"
        },
        "trusted": true,
        "id": "i1SFc7FGFXz_"
      },
      "execution_count": null,
      "outputs": []
    },
    {
      "cell_type": "code",
      "source": [],
      "metadata": {
        "trusted": true,
        "id": "muyro971FX0B"
      },
      "execution_count": null,
      "outputs": []
    }
  ]
}